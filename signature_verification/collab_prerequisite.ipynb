from google.colab import drive
drive.mount('/deep_learning/')
import os
os.chdir('/deep_learning/My Drive/deep_learning')
!ls
